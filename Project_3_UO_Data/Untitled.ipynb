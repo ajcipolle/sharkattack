{
 "cells": [
  {
   "cell_type": "code",
   "execution_count": 1,
   "metadata": {},
   "outputs": [],
   "source": [
    "import sklearn\n",
    "import pandas as pd\n",
    "import numpy as np\n",
    "import matplotlib.pyplot as plt"
   ]
  },
  {
   "cell_type": "code",
   "execution_count": 2,
   "metadata": {},
   "outputs": [],
   "source": [
    "test2 = pd.read_csv('model2_encoded.csv')\n",
    "\n",
    "X = test2.drop(labels='Fatal (Y/N)', axis=1)\n",
    "\n",
    "y = test2['Fatal (Y/N)']\n",
    "from sklearn.model_selection import train_test_split\n",
    "test_size = 0.2\n",
    "X_train, X_test, y_train, y_test = train_test_split(X, y, test_size=test_size, random_state=1)"
   ]
  },
  {
   "cell_type": "code",
   "execution_count": 3,
   "metadata": {},
   "outputs": [],
   "source": [
    "from sklearn.svm import SVC \n",
    "clf = SVC(kernel='rbf')\n",
    "clf.fit(X_train, y_train)\n",
    "y_pred=clf.predict(X_test)"
   ]
  },
  {
   "cell_type": "code",
   "execution_count": 4,
   "metadata": {},
   "outputs": [
    {
     "name": "stdout",
     "output_type": "stream",
     "text": [
      "Test Acc: 0.806\n"
     ]
    }
   ],
   "source": [
    " # Model Accuracy\n",
    "print('Test Acc: %.3f' % clf.score(X_test, y_test))"
   ]
  },
  {
   "cell_type": "code",
   "execution_count": 5,
   "metadata": {},
   "outputs": [
    {
     "name": "stdout",
     "output_type": "stream",
     "text": [
      "Train Accuracy: 0.8077762348740329\n"
     ]
    },
    {
     "name": "stderr",
     "output_type": "stream",
     "text": [
      "C:\\Users\\15309\\anaconda3\\envs\\Python_Data\\lib\\site-packages\\sklearn\\metrics\\_classification.py:1221: UndefinedMetricWarning: Precision is ill-defined and being set to 0.0 in labels with no predicted samples. Use `zero_division` parameter to control this behavior.\n",
      "  _warn_prf(average, modifier, msg_start, len(result))\n"
     ]
    },
    {
     "name": "stdout",
     "output_type": "stream",
     "text": [
      "Train Precision: 0.2574615141991645\n",
      "Train Recall: 0.29315723003824107\n",
      "Test Accuracy: 0.8057097541633624\n",
      "Test Precision: 0.38650530650338316\n",
      "Test Recall: 0.43587345970416635\n"
     ]
    },
    {
     "name": "stderr",
     "output_type": "stream",
     "text": [
      "C:\\Users\\15309\\anaconda3\\envs\\Python_Data\\lib\\site-packages\\sklearn\\metrics\\_classification.py:1221: UndefinedMetricWarning: Precision is ill-defined and being set to 0.0 in labels with no predicted samples. Use `zero_division` parameter to control this behavior.\n",
      "  _warn_prf(average, modifier, msg_start, len(result))\n"
     ]
    }
   ],
   "source": [
    "from sklearn import metrics\n",
    "print('Train Accuracy:', metrics.accuracy_score(y_train, clf.predict(X_train)))\n",
    "print('Train Precision:', metrics.precision_score(y_train, clf.predict(X_train), average='macro'))\n",
    "print('Train Recall:', metrics.recall_score(y_train, clf.predict(X_train), average='macro'))\n",
    "print(\"Test Accuracy:\",metrics.accuracy_score(y_test, y_pred))\n",
    "print('Test Precision:', metrics.precision_score(y_test, y_pred, average='macro'))\n",
    "print('Test Recall:', metrics.recall_score(y_test, y_pred, average='macro'))"
   ]
  },
  {
   "cell_type": "code",
   "execution_count": 6,
   "metadata": {},
   "outputs": [
    {
     "data": {
      "text/html": [
       "<div>\n",
       "<style scoped>\n",
       "    .dataframe tbody tr th:only-of-type {\n",
       "        vertical-align: middle;\n",
       "    }\n",
       "\n",
       "    .dataframe tbody tr th {\n",
       "        vertical-align: top;\n",
       "    }\n",
       "\n",
       "    .dataframe thead th {\n",
       "        text-align: right;\n",
       "    }\n",
       "</style>\n",
       "<table border=\"1\" class=\"dataframe\">\n",
       "  <thead>\n",
       "    <tr style=\"text-align: right;\">\n",
       "      <th></th>\n",
       "      <th>Area</th>\n",
       "      <th>Activity</th>\n",
       "      <th>Sex</th>\n",
       "      <th>Age</th>\n",
       "      <th>Injury</th>\n",
       "      <th>Fatal (Y/N)</th>\n",
       "      <th>Time</th>\n",
       "      <th>Species</th>\n",
       "    </tr>\n",
       "  </thead>\n",
       "  <tbody>\n",
       "    <tr>\n",
       "      <th>0</th>\n",
       "      <td>158</td>\n",
       "      <td>830</td>\n",
       "      <td>0</td>\n",
       "      <td>50</td>\n",
       "      <td>2407</td>\n",
       "      <td>N</td>\n",
       "      <td>219</td>\n",
       "      <td>1283</td>\n",
       "    </tr>\n",
       "    <tr>\n",
       "      <th>1</th>\n",
       "      <td>277</td>\n",
       "      <td>1109</td>\n",
       "      <td>0</td>\n",
       "      <td>2</td>\n",
       "      <td>2215</td>\n",
       "      <td>N</td>\n",
       "      <td>284</td>\n",
       "      <td>1273</td>\n",
       "    </tr>\n",
       "    <tr>\n",
       "      <th>2</th>\n",
       "      <td>315</td>\n",
       "      <td>1153</td>\n",
       "      <td>1</td>\n",
       "      <td>40</td>\n",
       "      <td>1407</td>\n",
       "      <td>N</td>\n",
       "      <td>35</td>\n",
       "      <td>1273</td>\n",
       "    </tr>\n",
       "    <tr>\n",
       "      <th>3</th>\n",
       "      <td>497</td>\n",
       "      <td>1153</td>\n",
       "      <td>1</td>\n",
       "      <td>80</td>\n",
       "      <td>2217</td>\n",
       "      <td>N</td>\n",
       "      <td>284</td>\n",
       "      <td>235</td>\n",
       "    </tr>\n",
       "    <tr>\n",
       "      <th>4</th>\n",
       "      <td>195</td>\n",
       "      <td>579</td>\n",
       "      <td>1</td>\n",
       "      <td>80</td>\n",
       "      <td>1706</td>\n",
       "      <td>N</td>\n",
       "      <td>284</td>\n",
       "      <td>1227</td>\n",
       "    </tr>\n",
       "    <tr>\n",
       "      <th>...</th>\n",
       "      <td>...</td>\n",
       "      <td>...</td>\n",
       "      <td>...</td>\n",
       "      <td>...</td>\n",
       "      <td>...</td>\n",
       "      <td>...</td>\n",
       "      <td>...</td>\n",
       "      <td>...</td>\n",
       "    </tr>\n",
       "    <tr>\n",
       "      <th>6297</th>\n",
       "      <td>806</td>\n",
       "      <td>274</td>\n",
       "      <td>1</td>\n",
       "      <td>80</td>\n",
       "      <td>670</td>\n",
       "      <td>Y</td>\n",
       "      <td>284</td>\n",
       "      <td>1273</td>\n",
       "    </tr>\n",
       "    <tr>\n",
       "      <th>6298</th>\n",
       "      <td>806</td>\n",
       "      <td>843</td>\n",
       "      <td>1</td>\n",
       "      <td>80</td>\n",
       "      <td>670</td>\n",
       "      <td>Y</td>\n",
       "      <td>284</td>\n",
       "      <td>1273</td>\n",
       "    </tr>\n",
       "    <tr>\n",
       "      <th>6299</th>\n",
       "      <td>508</td>\n",
       "      <td>1190</td>\n",
       "      <td>1</td>\n",
       "      <td>80</td>\n",
       "      <td>670</td>\n",
       "      <td>Y</td>\n",
       "      <td>284</td>\n",
       "      <td>1273</td>\n",
       "    </tr>\n",
       "    <tr>\n",
       "      <th>6300</th>\n",
       "      <td>763</td>\n",
       "      <td>1409</td>\n",
       "      <td>1</td>\n",
       "      <td>80</td>\n",
       "      <td>670</td>\n",
       "      <td>Y</td>\n",
       "      <td>284</td>\n",
       "      <td>1273</td>\n",
       "    </tr>\n",
       "    <tr>\n",
       "      <th>6301</th>\n",
       "      <td>247</td>\n",
       "      <td>1190</td>\n",
       "      <td>1</td>\n",
       "      <td>6</td>\n",
       "      <td>1044</td>\n",
       "      <td>Y</td>\n",
       "      <td>284</td>\n",
       "      <td>1273</td>\n",
       "    </tr>\n",
       "  </tbody>\n",
       "</table>\n",
       "<p>6302 rows × 8 columns</p>\n",
       "</div>"
      ],
      "text/plain": [
       "      Area  Activity  Sex   Age  Injury Fatal (Y/N)  Time  Species \n",
       "0      158       830     0   50    2407           N   219      1283\n",
       "1      277      1109     0    2    2215           N   284      1273\n",
       "2      315      1153     1   40    1407           N    35      1273\n",
       "3      497      1153     1   80    2217           N   284       235\n",
       "4      195       579     1   80    1706           N   284      1227\n",
       "...    ...       ...   ...  ...     ...         ...   ...       ...\n",
       "6297   806       274     1   80     670           Y   284      1273\n",
       "6298   806       843     1   80     670           Y   284      1273\n",
       "6299   508      1190     1   80     670           Y   284      1273\n",
       "6300   763      1409     1   80     670           Y   284      1273\n",
       "6301   247      1190     1    6    1044           Y   284      1273\n",
       "\n",
       "[6302 rows x 8 columns]"
      ]
     },
     "execution_count": 6,
     "metadata": {},
     "output_type": "execute_result"
    }
   ],
   "source": [
    "test2"
   ]
  },
  {
   "cell_type": "code",
   "execution_count": null,
   "metadata": {},
   "outputs": [],
   "source": []
  }
 ],
 "metadata": {
  "kernelspec": {
   "display_name": "Python 3",
   "language": "python",
   "name": "python3"
  },
  "language_info": {
   "codemirror_mode": {
    "name": "ipython",
    "version": 3
   },
   "file_extension": ".py",
   "mimetype": "text/x-python",
   "name": "python",
   "nbconvert_exporter": "python",
   "pygments_lexer": "ipython3",
   "version": "3.6.12"
  }
 },
 "nbformat": 4,
 "nbformat_minor": 4
}
