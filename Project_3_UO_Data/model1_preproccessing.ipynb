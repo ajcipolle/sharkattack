{
 "cells": [
  {
   "cell_type": "code",
   "execution_count": 1,
   "metadata": {},
   "outputs": [],
   "source": [
    "import sklearn\n",
    "import pandas as pd\n",
    "import numpy as np\n",
    "import matplotlib.pyplot as plt"
   ]
  },
  {
   "cell_type": "code",
   "execution_count": 5,
   "metadata": {},
   "outputs": [],
   "source": [
    "test1 = pd.read_csv('second_clean.csv')\n",
    "\n",
    "from sklearn import preprocessing\n",
    "from sklearn.preprocessing import LabelEncoder\n",
    "# label encoder categorical columns: four, five, eight\n",
    "label_encoder_four = LabelEncoder()  \n",
    "test1['Area'] = label_encoder_four.fit_transform(test1['Area'])\n",
    "label_encoder_five = LabelEncoder()        \n",
    "test1['Activity'] = label_encoder_five.fit_transform(test1['Activity'])\n",
    "label_encoder_eight= LabelEncoder()        \n",
    "test1['Sex '] = label_encoder_eight.fit_transform(test1['Sex '])\n",
    "label_encoder_six= LabelEncoder()        \n",
    "test1['Injury'] = label_encoder_six.fit_transform(test1['Injury'])\n",
    "#label_encoder_seven= LabelEncoder()        \n",
    "#test1['Fatal(Y/N)'] = label_encoder_seven.fit_transform(test1['Fatal(Y/N)'])\n",
    "label_encoder_two= LabelEncoder()        \n",
    "test1['Time'] = label_encoder_two.fit_transform(test1['Time'])\n",
    "label_encoder_nine= LabelEncoder() \n",
    "test1['Species '] = label_encoder_nine.fit_transform(test1['Species '])\n",
    "test1.to_csv('model1_encoded.csv', index=False)"
   ]
  },
  {
   "cell_type": "code",
   "execution_count": null,
   "metadata": {},
   "outputs": [],
   "source": []
  }
 ],
 "metadata": {
  "kernelspec": {
   "display_name": "Python 3",
   "language": "python",
   "name": "python3"
  },
  "language_info": {
   "codemirror_mode": {
    "name": "ipython",
    "version": 3
   },
   "file_extension": ".py",
   "mimetype": "text/x-python",
   "name": "python",
   "nbconvert_exporter": "python",
   "pygments_lexer": "ipython3",
   "version": "3.6.10"
  }
 },
 "nbformat": 4,
 "nbformat_minor": 4
}
